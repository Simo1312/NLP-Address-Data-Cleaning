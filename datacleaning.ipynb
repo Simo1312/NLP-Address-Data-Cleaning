{
 "cells": [
  {
   "metadata": {
    "ExecuteTime": {
     "end_time": "2024-12-17T15:13:07.962751Z",
     "start_time": "2024-12-17T15:13:07.958746Z"
    }
   },
   "cell_type": "code",
   "source": [
    "import pandas as pd\n",
    "import re\n",
    "from rapidfuzz import fuzz, process\n",
    "from geopy.geocoders import Nominatim\n",
    "from geopy.exc import GeocoderTimedOut\n",
    "import symspellpy\n",
    "from symspellpy import SymSpell"
   ],
   "id": "abbe5a2fc5fe6d6f",
   "outputs": [],
   "execution_count": 28
  },
  {
   "metadata": {
    "ExecuteTime": {
     "end_time": "2024-12-17T15:13:09.230529Z",
     "start_time": "2024-12-17T15:13:09.220912Z"
    }
   },
   "cell_type": "code",
   "source": [
    "addresses_df = pd.read_csv('list_of_real_usa_addresses.csv')\n",
    "print(addresses_df)\n"
   ],
   "id": "7938f643de67b06d",
   "outputs": [
    {
     "name": "stdout",
     "output_type": "stream",
     "text": [
      "                      street            city state    zip\n",
      "0        777 Brockton Avenue        Abington    MA   2351\n",
      "1           30 Memrial Drive            Avon    MA   2322\n",
      "2        250 Hartford Avenue      Bellingham    MA   2019\n",
      "3        777 brockton Avenue        Abington    MA   2351\n",
      "4              700 Oak Stret        Brockton    MA   2301\n",
      "..                       ...             ...   ...    ...\n",
      "230      1501 Skyland Blvd E      Tuscaloosa    AL  35405\n",
      "231             3501 20th Av          Valley    AL  36854\n",
      "232  1300 Montgomery Highway  Vestavia Hills    AL  35216\n",
      "233          4538 Us Hwy 231        Wetumpka    AL  36092\n",
      "234           2575 Us Hwy 43        Winfield    AL  35594\n",
      "\n",
      "[235 rows x 4 columns]\n"
     ]
    }
   ],
   "execution_count": 29
  },
  {
   "metadata": {
    "ExecuteTime": {
     "end_time": "2024-12-17T15:13:18.024634Z",
     "start_time": "2024-12-17T15:13:18.014050Z"
    }
   },
   "cell_type": "code",
   "source": [
    "# Step 2: Preprocessing the text\n",
    "def preprocess_address(addresses_df):\n",
    "    addresses_df[\"street\"] = addresses_df[\"street\"].str.strip().str.lower()\n",
    "    addresses_df[\"city\"] = addresses_df[\"city\"].str.strip().str.lower()\n",
    "    addresses_df[\"state\"] = addresses_df[\"state\"].str.strip().str.upper()\n",
    "    addresses_df[\"zip\"] = addresses_df[\"zip\"].astype(str).str.strip()\n",
    "    print(\"Preprocessed Data:\")\n",
    "    print(addresses_df.head())\n",
    "    return addresses_df\n",
    "addresses_df = preprocess_address(addresses_df)"
   ],
   "id": "41a382395c83703d",
   "outputs": [
    {
     "name": "stdout",
     "output_type": "stream",
     "text": [
      "Preprocessed Data:\n",
      "                street        city state   zip\n",
      "0  777 brockton avenue    abington    MA  2351\n",
      "1     30 memrial drive        avon    MA  2322\n",
      "2  250 hartford avenue  bellingham    MA  2019\n",
      "3  777 brockton avenue    abington    MA  2351\n",
      "4        700 oak stret    brockton    MA  2301\n"
     ]
    }
   ],
   "execution_count": 30
  },
  {
   "metadata": {
    "ExecuteTime": {
     "end_time": "2024-12-17T15:13:20.537134Z",
     "start_time": "2024-12-17T15:13:20.531091Z"
    }
   },
   "cell_type": "code",
   "source": "print(addresses_df.isnull().sum())",
   "id": "d1e6143aea93fdb9",
   "outputs": [
    {
     "name": "stdout",
     "output_type": "stream",
     "text": [
      "street    0\n",
      "city      0\n",
      "state     0\n",
      "zip       0\n",
      "dtype: int64\n"
     ]
    }
   ],
   "execution_count": 31
  },
  {
   "metadata": {
    "ExecuteTime": {
     "end_time": "2024-12-17T15:13:24.966957Z",
     "start_time": "2024-12-17T15:13:21.574193Z"
    }
   },
   "cell_type": "code",
   "source": [
    "# autocorrecta popravq greshno sushkrashteniq na addresi(kato Rd, Dr) i gradove\n",
    "\n",
    "sym_spell = SymSpell(max_dictionary_edit_distance=2, prefix_length=7)\n",
    "dictionary_path = \"frequency_dictionary_en_82_765.txt\"\n",
    "sym_spell.load_dictionary(dictionary_path, term_index=0, count_index=1)\n",
    "\n",
    "valid_states = [\n",
    "    \"AL\", \"AK\", \"AZ\", \"AR\", \"CA\", \"CO\", \"CT\", \"DE\", \"FL\", \"GA\", \"HI\", \"ID\", \"IL\", \"IN\", \"IA\", \"KS\", \"KY\", \"LA\",\n",
    "    \"ME\", \"MD\", \"MA\", \"MI\", \"MN\", \"MS\", \"MO\", \"MT\", \"NE\", \"NV\", \"NH\", \"NJ\", \"NM\", \"NY\", \"NC\", \"ND\", \"OH\", \"OK\",\n",
    "    \"OR\", \"PA\", \"RI\", \"SC\", \"SD\", \"TN\", \"TX\", \"UT\", \"VT\", \"VA\", \"WA\", \"WV\", \"WI\", \"WY\"\n",
    "]\n",
    "#protected terms mai ne bachka\n",
    "protected_terms = {\"Rd\", \"Dr\", \"Ave\", \"St\", \"Blvd\", \"Ln\", \"Ct\", \"Pl\", \"Pkwy\", \"Cir\", \"Terr\", \"Way\"}\n",
    "\n",
    "def correct_street(address):\n",
    "    # Split the address into words\n",
    "    words = address.split()\n",
    "\n",
    "    # Correct only non-numeric and non-protected words\n",
    "    corrected_words = []\n",
    "    for word in words:\n",
    "        # Check if the word is in the protected terms\n",
    "        if word in protected_terms:\n",
    "            corrected_words.append(word)\n",
    "        elif word.isalpha():\n",
    "            # Apply symspell correction for alphabetic words not in protected terms\n",
    "            suggestions = sym_spell.lookup(word, symspellpy.Verbosity.CLOSEST, max_edit_distance=2)\n",
    "            corrected_words.append(suggestions[0].term if suggestions else word)\n",
    "        else:\n",
    "            # Keep numbers or mixed words as-is\n",
    "            corrected_words.append(word)\n",
    "\n",
    "    # Rejoin the words\n",
    "    return \" \".join(corrected_words)\n",
    "\n",
    "def correct_city(city):\n",
    "    # Split the city into words\n",
    "    words = city.split()\n",
    "    corrected_words = []\n",
    "    for word in words:\n",
    "        if word in protected_terms:  # Protect city terms if necessary\n",
    "            corrected_words.append(word)\n",
    "        elif word.isalpha():\n",
    "            # Apply symspell correction\n",
    "            suggestions = sym_spell.lookup(word, symspellpy.Verbosity.CLOSEST, max_edit_distance=2)\n",
    "            corrected_words.append(suggestions[0].term if suggestions else word)\n",
    "        else:\n",
    "            corrected_words.append(word)\n",
    "    return \" \".join(corrected_words)\n",
    "\n",
    "def correct_typos(addresses_df):\n",
    "    # Correct state abbreviations\n",
    "    addresses_df[\"state\"] = addresses_df[\"state\"].apply(\n",
    "        lambda x: process.extractOne(x, valid_states, scorer=fuzz.token_sort_ratio)[0] if x not in valid_states else x\n",
    "    )\n",
    "\n",
    "    # Replace street abbreviations\n",
    "    addresses_df[\"street\"] = addresses_df[\"street\"].str.replace(r\"\\b(st)\\b\", \"Street\", regex=True)\n",
    "    addresses_df[\"street\"] = addresses_df[\"street\"].str.replace(r\"\\b(ave)\\b\", \"Avenue\", regex=True)\n",
    "\n",
    "    # Apply corrections to street and city columns\n",
    "    addresses_df[\"street\"] = addresses_df[\"street\"].apply(correct_street)\n",
    "    addresses_df[\"city\"] = addresses_df[\"city\"].apply(correct_city)\n",
    "\n",
    "    # Convert to title case\n",
    "    addresses_df[\"street\"] = addresses_df[\"street\"].str.title()\n",
    "    addresses_df[\"city\"] = addresses_df[\"city\"].str.title()\n",
    "    print(addresses_df.head())\n",
    "    return addresses_df\n",
    "\n",
    "# Usage\n",
    "addresses_df = correct_typos(addresses_df)\n"
   ],
   "id": "d3c3d6b5db9be810",
   "outputs": [
    {
     "name": "stdout",
     "output_type": "stream",
     "text": [
      "                street        city state   zip\n",
      "0  777 Brockton Avenue    Abingdon    MA  2351\n",
      "1    30 Memorial Drive        Avon    MA  2322\n",
      "2  250 Hartford Avenue  Bellingham    MA  2019\n",
      "3  777 Brockton Avenue    Abingdon    MA  2351\n",
      "4       700 Oak Street    Brockton    MA  2301\n"
     ]
    }
   ],
   "execution_count": 32
  },
  {
   "metadata": {
    "ExecuteTime": {
     "end_time": "2024-12-17T15:13:42.802696Z",
     "start_time": "2024-12-17T15:13:42.790480Z"
    }
   },
   "cell_type": "code",
   "source": [
    "state_full_names = {\n",
    "    \"AL\": \"Alabama\", \"AK\": \"Alaska\", \"AZ\": \"Arizona\", \"AR\": \"Arkansas\", \"CA\": \"California\", \"CO\": \"Colorado\", \"CT\": \"Connecticut\", \"DE\": \"Delaware\", \"FL\": \"Florida\", \"GA\": \"Georgia\", \"HI\": \"Hawaii\", \"ID\": \"Idaho\", \"IL\": \"Illinois\", \"IN\": \"Indiana\", \"IA\": \"Iowa\", \"KS\": \"Kansas\", \"KY\": \"Kentucky\", \"LA\": \"Louisiana\", \"ME\": \"Maine\", \"MD\": \"Maryland\", \"MA\": \"Massachusetts\", \"MI\": \"Michigan\", \"MN\": \"Minnesota\", \"MS\": \"Mississippi\", \"MO\": \"Missouri\", \"MT\": \"Montana\", \"NE\": \"Nebraska\", \"NV\": \"Nevada\", \"NH\": \"New Hampshire\", \"NJ\": \"New Jersey\", \"NM\": \"New Mexico\", \"NY\": \"New York\", \"NC\": \"North Carolina\", \"ND\": \"North Dakota\", \"OH\": \"Ohio\", \"OK\": \"Oklahoma\", \"OR\": \"Oregon\", \"PA\": \"Pennsylvania\", \"RI\": \"Rhode Island\", \"SC\": \"South Carolina\", \"SD\": \"South Dakota\", \"TN\": \"Tennessee\", \"TX\": \"Texas\", \"UT\": \"Utah\", \"VT\": \"Vermont\", \"VA\": \"Virginia\", \"WA\": \"Washington\", \"WV\": \"West Virginia\", \"WI\": \"Wisconsin\", \"WY\": \"Wyoming\"\n",
    "}\n",
    "\n",
    "def standardize_address(addresses_df):\n",
    "    addresses_df[\"zip\"] = addresses_df[\"zip\"].str.zfill(5)  # Ensure all ZIP codes are 5 digits\n",
    "    addresses_df[\"state\"] = addresses_df[\"state\"].map(state_full_names).fillna(addresses_df[\"state\"])\n",
    "    print(\"Standardized Addresses:\")\n",
    "    print(addresses_df.head())\n",
    "    return addresses_df\n",
    "addresses_df = standardize_address(addresses_df)"
   ],
   "id": "fa5d73187669d0e3",
   "outputs": [
    {
     "name": "stdout",
     "output_type": "stream",
     "text": [
      "Standardized Addresses:\n",
      "                street        city          state    zip\n",
      "0  777 Brockton Avenue    Abingdon  Massachusetts  02351\n",
      "1    30 Memorial Drive        Avon  Massachusetts  02322\n",
      "2  250 Hartford Avenue  Bellingham  Massachusetts  02019\n",
      "3  777 Brockton Avenue    Abingdon  Massachusetts  02351\n",
      "4       700 Oak Street    Brockton  Massachusetts  02301\n"
     ]
    }
   ],
   "execution_count": 33
  },
  {
   "metadata": {
    "ExecuteTime": {
     "end_time": "2024-12-17T15:13:46.408365Z",
     "start_time": "2024-12-17T15:13:46.399977Z"
    }
   },
   "cell_type": "code",
   "source": [
    "def deduplicate_addresses(addresses_df):\n",
    "    addresses_df = addresses_df.drop_duplicates(subset=[\"street\", \"city\", \"state\", \"zip\"], keep=\"first\")\n",
    "    print(\"Deduplicated Data:\")\n",
    "    print(addresses_df.head())\n",
    "    return addresses_df\n",
    "addresses_df = deduplicate_addresses(addresses_df)"
   ],
   "id": "7d41175212619351",
   "outputs": [
    {
     "name": "stdout",
     "output_type": "stream",
     "text": [
      "Deduplicated Data:\n",
      "                street        city          state    zip\n",
      "0  777 Brockton Avenue    Abingdon  Massachusetts  02351\n",
      "1    30 Memorial Drive        Avon  Massachusetts  02322\n",
      "2  250 Hartford Avenue  Bellingham  Massachusetts  02019\n",
      "4       700 Oak Street    Brockton  Massachusetts  02301\n",
      "5    66-4 Pankhurst Re  Chelmsford  Massachusetts  01824\n"
     ]
    }
   ],
   "execution_count": 34
  },
  {
   "metadata": {
    "ExecuteTime": {
     "end_time": "2024-12-17T15:05:55.852324Z",
     "start_time": "2024-12-17T15:01:59.112273Z"
    }
   },
   "cell_type": "code",
   "source": [
    "def validate_and_geocode(addresses_df):\n",
    "    geolocator = Nominatim(user_agent=\"address_cleaner\")\n",
    "\n",
    "    def geocode(row):\n",
    "        try:\n",
    "            address = f\"{row['street']}, {row['city']}, {row['state']}, {row['zip']}\"\n",
    "            location = geolocator.geocode(address, timeout=4)\n",
    "            if location:\n",
    "                return pd.Series([location.latitude, location.longitude])\n",
    "            else:\n",
    "                return pd.Series([None, None])\n",
    "        except GeocoderTimedOut:\n",
    "            return pd.Series([None, None])\n",
    "\n",
    "    addresses_df[[\"latitude\", \"longitude\"]] = addresses_df.apply(geocode, axis=1)\n",
    "    print(\"Geocoded Data:\")\n",
    "    print(addresses_df.head())\n",
    "    return addresses_df\n",
    "\n",
    "addresses_df = validate_and_geocode(addresses_df)"
   ],
   "id": "c901cf3edc3baadb",
   "outputs": [
    {
     "name": "stdout",
     "output_type": "stream",
     "text": [
      "Geocoded Data:\n",
      "                street        city          state    zip   latitude  longitude\n",
      "0  777 Brockton Avenue    Abingdon  Massachusetts  02351        NaN        NaN\n",
      "1    30 Memorial Drive        Avon  Massachusetts  02322  42.121302 -71.030164\n",
      "2  250 Hartford Avenue  Bellingham  Massachusetts  02019  42.116332 -71.466154\n",
      "4       700 Oak Street    Brockton  Massachusetts  02301  42.098118 -71.056756\n",
      "5    66-4 Pankhurst Re  Chelmsford  Massachusetts  01824        NaN        NaN\n"
     ]
    }
   ],
   "execution_count": 26
  }
 ],
 "metadata": {
  "kernelspec": {
   "display_name": "Python 3",
   "language": "python",
   "name": "python3"
  },
  "language_info": {
   "codemirror_mode": {
    "name": "ipython",
    "version": 2
   },
   "file_extension": ".py",
   "mimetype": "text/x-python",
   "name": "python",
   "nbconvert_exporter": "python",
   "pygments_lexer": "ipython2",
   "version": "2.7.6"
  }
 },
 "nbformat": 4,
 "nbformat_minor": 5
}
